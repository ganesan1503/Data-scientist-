{
  "nbformat": 4,
  "nbformat_minor": 0,
  "metadata": {
    "colab": {
      "provenance": [],
      "authorship_tag": "ABX9TyPrtKy0joOHMM5TCZgC2K0j",
      "include_colab_link": true
    },
    "kernelspec": {
      "name": "python3",
      "display_name": "Python 3"
    },
    "language_info": {
      "name": "python"
    }
  },
  "cells": [
    {
      "cell_type": "markdown",
      "metadata": {
        "id": "view-in-github",
        "colab_type": "text"
      },
      "source": [
        "<a href=\"https://colab.research.google.com/github/ganesan1503/Data-scientist-/blob/main/Untitled.ipynb\" target=\"_parent\"><img src=\"https://colab.research.google.com/assets/colab-badge.svg\" alt=\"Open In Colab\"/></a>"
      ]
    },
    {
      "cell_type": "code",
      "execution_count": 3,
      "metadata": {
        "colab": {
          "base_uri": "https://localhost:8080/"
        },
        "id": "PHgyizNBKARh",
        "outputId": "2da7a9ba-e3cb-484b-caad-36f0a769e9bf"
      },
      "outputs": [
        {
          "output_type": "stream",
          "name": "stdout",
          "text": [
            "Mean: 55.0\n"
          ]
        }
      ],
      "source": [
        "import numpy as np\n",
        "import pandas as pd\n",
        "from scipy import stats\n",
        "# Sample dataset\n",
        "data = [10, 20, 30, 40, 50, 60, 70, 80, 90, 100]\n",
        "import numpy as np\n",
        "import pandas as pd\n",
        "from scipy import stats\n",
        "# Sample dataset\n",
        "data = [10, 20, 30, 40, 50, 60, 70, 80, 90, 100]\n",
        "# Mean\n",
        "mean_value = np.mean(data)\n",
        "print(f\"Mean: {mean_value}\")"
      ]
    }
  ]
}